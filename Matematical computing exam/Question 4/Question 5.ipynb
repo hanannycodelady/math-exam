{
 "cells": [
  {
   "cell_type": "code",
   "execution_count": 1,
   "metadata": {},
   "outputs": [],
   "source": [
    "import numpy as np"
   ]
  },
  {
   "cell_type": "code",
   "execution_count": 3,
   "metadata": {},
   "outputs": [
    {
     "name": "stdout",
     "output_type": "stream",
     "text": [
      "Solution:\n",
      "[ 3.73062731 -2.16236162 -0.01845018]\n"
     ]
    }
   ],
   "source": [
    "import numpy as np\n",
    "\n",
    "\n",
    "# coefficient matrix\n",
    "coeff_matrix = np.array([\n",
    "    [1, -2, 3],\n",
    "    [4, 5, 6],\n",
    "    [7, 8, -10]\n",
    "])\n",
    "\n",
    "rhs_vector = np.array([8, 4, 9])\n",
    "\n",
    "solution = solve_linear_system(coeff_matrix, rhs_vector)\n",
    "\n",
    "if solution is not None:\n",
    "    print(\"Solution:\")\n",
    "    print(solution)"
   ]
  }
 ],
 "metadata": {
  "kernelspec": {
   "display_name": "Python 3",
   "language": "python",
   "name": "python3"
  },
  "language_info": {
   "codemirror_mode": {
    "name": "ipython",
    "version": 3
   },
   "file_extension": ".py",
   "mimetype": "text/x-python",
   "name": "python",
   "nbconvert_exporter": "python",
   "pygments_lexer": "ipython3",
   "version": "3.11.6"
  }
 },
 "nbformat": 4,
 "nbformat_minor": 2
}
