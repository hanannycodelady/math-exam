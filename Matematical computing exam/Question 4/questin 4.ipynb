{
 "cells": [
  {
   "cell_type": "code",
   "execution_count": 2,
   "metadata": {},
   "outputs": [],
   "source": [
    "import numpy as np"
   ]
  },
  {
   "cell_type": "code",
   "execution_count": 3,
   "metadata": {},
   "outputs": [
    {
     "name": "stdout",
     "output_type": "stream",
     "text": [
      "Original Matrix:\n",
      "[[1.  0.2 0.5]\n",
      " [0.2 1.  0.8]\n",
      " [0.5 0.8 1. ]]\n",
      "\n",
      "Inverse of the Transpose:\n",
      "[[ 1.56521739  0.86956522 -1.47826087]\n",
      " [ 0.86956522  3.26086957 -3.04347826]\n",
      " [-1.47826087 -3.04347826  4.17391304]]\n"
     ]
    }
   ],
   "source": [
    "# Question 4\n",
    "        # (a)\n",
    "# inverse of the matrix\n",
    "def inverse_of_transpose(matrix):\n",
    "    # Transpose of  the matrix\n",
    "    matrix_transpose = np.transpose(matrix)\n",
    "    \n",
    "    # Computing  the inverse of a matrix that is transposed .\n",
    "    inverse_transpose = np.linalg.inv(matrix_transpose)\n",
    "    \n",
    "    return inverse_transpose\n",
    "\n",
    "matrix = np.array([[1, 0.2, 0.5],\n",
    "                    [0.2, 1, 0.8],\n",
    "                    [0.5, 0.8, 1]])\n",
    "\n",
    "# Calling the function to compute the inverse of the transposed matrix\n",
    "result = inverse_of_transpose(matrix)\n",
    "\n",
    "print(\"Original Matrix:\")\n",
    "print(matrix)\n",
    "print(\"\\nInverse of the Transpose:\")\n",
    "print(result)"
   ]
  },
  {
   "cell_type": "code",
   "execution_count": 6,
   "metadata": {},
   "outputs": [
    {
     "name": "stdout",
     "output_type": "stream",
     "text": [
      "The determinant of the matrix is: 0.2299999999999999\n"
     ]
    }
   ],
   "source": [
    "#(b)\n",
    "import numpy as np\n",
    "def determinant(matrix):\n",
    "    return np.linalg.det(matrix)\n",
    "matrix = np.array([[1, 0.2, 0.5],\n",
    "                [0.2, 1, 0.8],\n",
    "                [0.5, 0.8, 1]])\n",
    "det_value = determinant(matrix)\n",
    "print(f\"The determinant of the matrix is: {det_value}\")\n"
   ]
  },
  {
   "cell_type": "code",
   "execution_count": 9,
   "metadata": {},
   "outputs": [
    {
     "name": "stdout",
     "output_type": "stream",
     "text": [
      "Original Matrix:\n",
      "[[1.  0.2 0.5]\n",
      " [0.2 1.  0.8]\n",
      " [0.5 0.8 1. ]]\n",
      "\n",
      "Lower Triangular Matrix (L):\n",
      "[[1.         0.         0.        ]\n",
      " [0.2        1.         0.        ]\n",
      " [0.5        0.72916667 1.        ]]\n",
      "\n",
      "Upper Triangular Matrix (U):\n",
      "[[1.         0.2        0.5       ]\n",
      " [0.         0.96       0.7       ]\n",
      " [0.         0.         0.23958333]]\n",
      "\n",
      "Verification: L * U =\n",
      "[[1.  0.2 0.5]\n",
      " [0.2 1.  0.8]\n",
      " [0.5 0.8 1. ]]\n"
     ]
    }
   ],
   "source": [
    "# (c)\n",
    "#decomposition of a matrix\n",
    "\n",
    "matrix = np.array([\n",
    "    [1, 0.2, 0.5],\n",
    "    [0.2, 1, 0.8],\n",
    "    [0.5,0.8,1]\n",
    "])\n",
    "\n",
    "L, U = lu_decomposition(matrix)\n",
    "\n",
    "print(\"Original Matrix:\")\n",
    "print(matrix)\n",
    "print(\"\\nLower Triangular Matrix (L):\")\n",
    "print(L)\n",
    "print(\"\\nUpper Triangular Matrix (U):\")\n",
    "print(U)\n",
    "\n",
    "# Verify that A = L * U\n",
    "print(\"\\nVerification: L * U =\")\n",
    "print(np.dot(L, U))"
   ]
  }
 ],
 "metadata": {
  "kernelspec": {
   "display_name": "Python 3",
   "language": "python",
   "name": "python3"
  },
  "language_info": {
   "codemirror_mode": {
    "name": "ipython",
    "version": 3
   },
   "file_extension": ".py",
   "mimetype": "text/x-python",
   "name": "python",
   "nbconvert_exporter": "python",
   "pygments_lexer": "ipython3",
   "version": "3.11.6"
  }
 },
 "nbformat": 4,
 "nbformat_minor": 2
}
